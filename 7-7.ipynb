{
 "cells": [
  {
   "cell_type": "code",
   "execution_count": 1,
   "id": "2a2f9dae-5fad-4966-8ff3-b16ba0f704bd",
   "metadata": {},
   "outputs": [],
   "source": [
    "import time\n",
    "import numpy as np\n",
    "from sklearn.neighbors import NearestCentroid\n",
    "from sklearn.neighbors import KNeighborsClassifier\n",
    "from sklearn.naive_bayes import GaussianNB, MultinomialNB\n",
    "from sklearn.tree import DecisionTreeClassifier\n",
    "from sklearn.ensemble import RandomForestClassifier\n",
    "from sklearn.svm import LinearSVC\n",
    "from sklearn import decomposition"
   ]
  },
  {
   "cell_type": "code",
   "execution_count": 2,
   "id": "d9467e41-e42b-4826-8a5a-bea0b92fe6e3",
   "metadata": {
    "tags": []
   },
   "outputs": [],
   "source": [
    "def run(x_train, y_train, x_test, y_test, clf):\n",
    "    s = time.time()\n",
    "    clf.fit(x_train, y_train)\n",
    "    e_train = time.time() - s\n",
    "    s = time.time()\n",
    "    score = clf.score(x_test, y_test)\n",
    "    e_test = time.time() - s\n",
    "    print(\"score = %0.4f (time, train=%8.3f, test=%8.3f)\"\n",
    "          % (score, e_train, e_test))"
   ]
  },
  {
   "cell_type": "code",
   "execution_count": 3,
   "id": "e3161d17-ea4e-428b-8223-fc8bed9500f1",
   "metadata": {
    "tags": []
   },
   "outputs": [],
   "source": [
    "def train(x_train, y_train, x_test, y_test):\n",
    "    print(\"      Nearest Centroid       :\", end='')\n",
    "    run(x_train, y_train, x_test, y_test, NearestCentroid())\n",
    "    print(\"      k-NN classifier (k=3)  :\", end='')\n",
    "    "
   ]
  },
  {
   "cell_type": "code",
   "execution_count": null,
   "id": "9c2b9f2b-47d7-412f-9882-1b4e0c00e3b5",
   "metadata": {},
   "outputs": [],
   "source": [
    "def main():\n",
    "    x_train = np.load('mnist_train_vectors.npy').astype('float64')\n",
    "    y_train = np.load('mnist_train_labels.npy')\n",
    "    x_test  = np.load('mnist_test_vectors.npy'). astype('float64')\n",
    "    y_test  = np.load('mnist_test_labels.npy')"
   ]
  }
 ],
 "metadata": {
  "kernelspec": {
   "display_name": "Python 3 (ipykernel)",
   "language": "python",
   "name": "python3"
  },
  "language_info": {
   "codemirror_mode": {
    "name": "ipython",
    "version": 3
   },
   "file_extension": ".py",
   "mimetype": "text/x-python",
   "name": "python",
   "nbconvert_exporter": "python",
   "pygments_lexer": "ipython3",
   "version": "3.11.4"
  }
 },
 "nbformat": 4,
 "nbformat_minor": 5
}
