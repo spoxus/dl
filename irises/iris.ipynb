{
 "cells": [
  {
   "cell_type": "code",
   "execution_count": 1,
   "id": "a4bf989e-619c-4238-a972-4c56038f6f58",
   "metadata": {
    "tags": []
   },
   "outputs": [],
   "source": [
    "import numpy as np"
   ]
  },
  {
   "cell_type": "code",
   "execution_count": 6,
   "id": "cb89e20f-9bbf-431e-b123-58e7b6e5bcf4",
   "metadata": {
    "tags": []
   },
   "outputs": [],
   "source": [
    "with open('iris.data') as f:\n",
    "    lines = [i[:-1] for i in f.readlines()]"
   ]
  },
  {
   "cell_type": "code",
   "execution_count": 7,
   "id": "ade1e96e-b80f-4c3e-b087-728e72bfdb1b",
   "metadata": {
    "tags": []
   },
   "outputs": [
    {
     "data": {
      "text/plain": [
       "['5.1,3.5,1.4,0.2,Iris-setosa',\n",
       " '4.9,3.0,1.4,0.2,Iris-setosa',\n",
       " '4.7,3.2,1.3,0.2,Iris-setosa',\n",
       " '4.6,3.1,1.5,0.2,Iris-setosa',\n",
       " '5.0,3.6,1.4,0.2,Iris-setosa',\n",
       " '5.4,3.9,1.7,0.4,Iris-setosa',\n",
       " '4.6,3.4,1.4,0.3,Iris-setosa',\n",
       " '5.0,3.4,1.5,0.2,Iris-setosa',\n",
       " '4.4,2.9,1.4,0.2,Iris-setosa',\n",
       " '4.9,3.1,1.5,0.1,Iris-setosa',\n",
       " '5.4,3.7,1.5,0.2,Iris-setosa',\n",
       " '4.8,3.4,1.6,0.2,Iris-setosa',\n",
       " '4.8,3.0,1.4,0.1,Iris-setosa',\n",
       " '4.3,3.0,1.1,0.1,Iris-setosa',\n",
       " '5.8,4.0,1.2,0.2,Iris-setosa',\n",
       " '5.7,4.4,1.5,0.4,Iris-setosa',\n",
       " '5.4,3.9,1.3,0.4,Iris-setosa',\n",
       " '5.1,3.5,1.4,0.3,Iris-setosa',\n",
       " '5.7,3.8,1.7,0.3,Iris-setosa',\n",
       " '5.1,3.8,1.5,0.3,Iris-setosa',\n",
       " '5.4,3.4,1.7,0.2,Iris-setosa',\n",
       " '5.1,3.7,1.5,0.4,Iris-setosa',\n",
       " '4.6,3.6,1.0,0.2,Iris-setosa',\n",
       " '5.1,3.3,1.7,0.5,Iris-setosa',\n",
       " '4.8,3.4,1.9,0.2,Iris-setosa',\n",
       " '5.0,3.0,1.6,0.2,Iris-setosa',\n",
       " '5.0,3.4,1.6,0.4,Iris-setosa',\n",
       " '5.2,3.5,1.5,0.2,Iris-setosa',\n",
       " '5.2,3.4,1.4,0.2,Iris-setosa',\n",
       " '4.7,3.2,1.6,0.2,Iris-setosa',\n",
       " '4.8,3.1,1.6,0.2,Iris-setosa',\n",
       " '5.4,3.4,1.5,0.4,Iris-setosa',\n",
       " '5.2,4.1,1.5,0.1,Iris-setosa',\n",
       " '5.5,4.2,1.4,0.2,Iris-setosa',\n",
       " '4.9,3.1,1.5,0.1,Iris-setosa',\n",
       " '5.0,3.2,1.2,0.2,Iris-setosa',\n",
       " '5.5,3.5,1.3,0.2,Iris-setosa',\n",
       " '4.9,3.1,1.5,0.1,Iris-setosa',\n",
       " '4.4,3.0,1.3,0.2,Iris-setosa',\n",
       " '5.1,3.4,1.5,0.2,Iris-setosa',\n",
       " '5.0,3.5,1.3,0.3,Iris-setosa',\n",
       " '4.5,2.3,1.3,0.3,Iris-setosa',\n",
       " '4.4,3.2,1.3,0.2,Iris-setosa',\n",
       " '5.0,3.5,1.6,0.6,Iris-setosa',\n",
       " '5.1,3.8,1.9,0.4,Iris-setosa',\n",
       " '4.8,3.0,1.4,0.3,Iris-setosa',\n",
       " '5.1,3.8,1.6,0.2,Iris-setosa',\n",
       " '4.6,3.2,1.4,0.2,Iris-setosa',\n",
       " '5.3,3.7,1.5,0.2,Iris-setosa',\n",
       " '5.0,3.3,1.4,0.2,Iris-setosa',\n",
       " '7.0,3.2,4.7,1.4,Iris-versicolor',\n",
       " '6.4,3.2,4.5,1.5,Iris-versicolor',\n",
       " '6.9,3.1,4.9,1.5,Iris-versicolor',\n",
       " '5.5,2.3,4.0,1.3,Iris-versicolor',\n",
       " '6.5,2.8,4.6,1.5,Iris-versicolor',\n",
       " '5.7,2.8,4.5,1.3,Iris-versicolor',\n",
       " '6.3,3.3,4.7,1.6,Iris-versicolor',\n",
       " '4.9,2.4,3.3,1.0,Iris-versicolor',\n",
       " '6.6,2.9,4.6,1.3,Iris-versicolor',\n",
       " '5.2,2.7,3.9,1.4,Iris-versicolor',\n",
       " '5.0,2.0,3.5,1.0,Iris-versicolor',\n",
       " '5.9,3.0,4.2,1.5,Iris-versicolor',\n",
       " '6.0,2.2,4.0,1.0,Iris-versicolor',\n",
       " '6.1,2.9,4.7,1.4,Iris-versicolor',\n",
       " '5.6,2.9,3.6,1.3,Iris-versicolor',\n",
       " '6.7,3.1,4.4,1.4,Iris-versicolor',\n",
       " '5.6,3.0,4.5,1.5,Iris-versicolor',\n",
       " '5.8,2.7,4.1,1.0,Iris-versicolor',\n",
       " '6.2,2.2,4.5,1.5,Iris-versicolor',\n",
       " '5.6,2.5,3.9,1.1,Iris-versicolor',\n",
       " '5.9,3.2,4.8,1.8,Iris-versicolor',\n",
       " '6.1,2.8,4.0,1.3,Iris-versicolor',\n",
       " '6.3,2.5,4.9,1.5,Iris-versicolor',\n",
       " '6.1,2.8,4.7,1.2,Iris-versicolor',\n",
       " '6.4,2.9,4.3,1.3,Iris-versicolor',\n",
       " '6.6,3.0,4.4,1.4,Iris-versicolor',\n",
       " '6.8,2.8,4.8,1.4,Iris-versicolor',\n",
       " '6.7,3.0,5.0,1.7,Iris-versicolor',\n",
       " '6.0,2.9,4.5,1.5,Iris-versicolor',\n",
       " '5.7,2.6,3.5,1.0,Iris-versicolor',\n",
       " '5.5,2.4,3.8,1.1,Iris-versicolor',\n",
       " '5.5,2.4,3.7,1.0,Iris-versicolor',\n",
       " '5.8,2.7,3.9,1.2,Iris-versicolor',\n",
       " '6.0,2.7,5.1,1.6,Iris-versicolor',\n",
       " '5.4,3.0,4.5,1.5,Iris-versicolor',\n",
       " '6.0,3.4,4.5,1.6,Iris-versicolor',\n",
       " '6.7,3.1,4.7,1.5,Iris-versicolor',\n",
       " '6.3,2.3,4.4,1.3,Iris-versicolor',\n",
       " '5.6,3.0,4.1,1.3,Iris-versicolor',\n",
       " '5.5,2.5,4.0,1.3,Iris-versicolor',\n",
       " '5.5,2.6,4.4,1.2,Iris-versicolor',\n",
       " '6.1,3.0,4.6,1.4,Iris-versicolor',\n",
       " '5.8,2.6,4.0,1.2,Iris-versicolor',\n",
       " '5.0,2.3,3.3,1.0,Iris-versicolor',\n",
       " '5.6,2.7,4.2,1.3,Iris-versicolor',\n",
       " '5.7,3.0,4.2,1.2,Iris-versicolor',\n",
       " '5.7,2.9,4.2,1.3,Iris-versicolor',\n",
       " '6.2,2.9,4.3,1.3,Iris-versicolor',\n",
       " '5.1,2.5,3.0,1.1,Iris-versicolor',\n",
       " '5.7,2.8,4.1,1.3,Iris-versicolor',\n",
       " '6.3,3.3,6.0,2.5,Iris-virginica',\n",
       " '5.8,2.7,5.1,1.9,Iris-virginica',\n",
       " '7.1,3.0,5.9,2.1,Iris-virginica',\n",
       " '6.3,2.9,5.6,1.8,Iris-virginica',\n",
       " '6.5,3.0,5.8,2.2,Iris-virginica',\n",
       " '7.6,3.0,6.6,2.1,Iris-virginica',\n",
       " '4.9,2.5,4.5,1.7,Iris-virginica',\n",
       " '7.3,2.9,6.3,1.8,Iris-virginica',\n",
       " '6.7,2.5,5.8,1.8,Iris-virginica',\n",
       " '7.2,3.6,6.1,2.5,Iris-virginica',\n",
       " '6.5,3.2,5.1,2.0,Iris-virginica',\n",
       " '6.4,2.7,5.3,1.9,Iris-virginica',\n",
       " '6.8,3.0,5.5,2.1,Iris-virginica',\n",
       " '5.7,2.5,5.0,2.0,Iris-virginica',\n",
       " '5.8,2.8,5.1,2.4,Iris-virginica',\n",
       " '6.4,3.2,5.3,2.3,Iris-virginica',\n",
       " '6.5,3.0,5.5,1.8,Iris-virginica',\n",
       " '7.7,3.8,6.7,2.2,Iris-virginica',\n",
       " '7.7,2.6,6.9,2.3,Iris-virginica',\n",
       " '6.0,2.2,5.0,1.5,Iris-virginica',\n",
       " '6.9,3.2,5.7,2.3,Iris-virginica',\n",
       " '5.6,2.8,4.9,2.0,Iris-virginica',\n",
       " '7.7,2.8,6.7,2.0,Iris-virginica',\n",
       " '6.3,2.7,4.9,1.8,Iris-virginica',\n",
       " '6.7,3.3,5.7,2.1,Iris-virginica',\n",
       " '7.2,3.2,6.0,1.8,Iris-virginica',\n",
       " '6.2,2.8,4.8,1.8,Iris-virginica',\n",
       " '6.1,3.0,4.9,1.8,Iris-virginica',\n",
       " '6.4,2.8,5.6,2.1,Iris-virginica',\n",
       " '7.2,3.0,5.8,1.6,Iris-virginica',\n",
       " '7.4,2.8,6.1,1.9,Iris-virginica',\n",
       " '7.9,3.8,6.4,2.0,Iris-virginica',\n",
       " '6.4,2.8,5.6,2.2,Iris-virginica',\n",
       " '6.3,2.8,5.1,1.5,Iris-virginica',\n",
       " '6.1,2.6,5.6,1.4,Iris-virginica',\n",
       " '7.7,3.0,6.1,2.3,Iris-virginica',\n",
       " '6.3,3.4,5.6,2.4,Iris-virginica',\n",
       " '6.4,3.1,5.5,1.8,Iris-virginica',\n",
       " '6.0,3.0,4.8,1.8,Iris-virginica',\n",
       " '6.9,3.1,5.4,2.1,Iris-virginica',\n",
       " '6.7,3.1,5.6,2.4,Iris-virginica',\n",
       " '6.9,3.1,5.1,2.3,Iris-virginica',\n",
       " '5.8,2.7,5.1,1.9,Iris-virginica',\n",
       " '6.8,3.2,5.9,2.3,Iris-virginica',\n",
       " '6.7,3.3,5.7,2.5,Iris-virginica',\n",
       " '6.7,3.0,5.2,2.3,Iris-virginica',\n",
       " '6.3,2.5,5.0,1.9,Iris-virginica',\n",
       " '6.5,3.0,5.2,2.0,Iris-virginica',\n",
       " '6.2,3.4,5.4,2.3,Iris-virginica',\n",
       " '5.9,3.0,5.1,1.8,Iris-virginica',\n",
       " '']"
      ]
     },
     "execution_count": 7,
     "metadata": {},
     "output_type": "execute_result"
    }
   ],
   "source": [
    "lines"
   ]
  },
  {
   "cell_type": "code",
   "execution_count": 8,
   "id": "1cdca5c7-06ae-4063-8185-c8a5731b8da2",
   "metadata": {
    "tags": []
   },
   "outputs": [
    {
     "data": {
      "text/plain": [
       "['Iris-setosa', 'Iris-versicolor', 'Iris-virginica']"
      ]
     },
     "execution_count": 8,
     "metadata": {},
     "output_type": "execute_result"
    }
   ],
   "source": [
    "n = ['Iris-setosa', 'Iris-versicolor', 'Iris-virginica']\n",
    "n"
   ]
  },
  {
   "cell_type": "code",
   "execution_count": 11,
   "id": "1b94ab6b-ac04-4251-9805-dd00d1bba7c1",
   "metadata": {
    "tags": []
   },
   "outputs": [],
   "source": [
    "with open('iris.data') as f:\n",
    "    ll = [i for i in f.readlines()]"
   ]
  },
  {
   "cell_type": "code",
   "execution_count": 12,
   "id": "42db847a-56bd-4b5e-a08f-98b1d2d2b8ec",
   "metadata": {
    "tags": []
   },
   "outputs": [
    {
     "data": {
      "text/plain": [
       "['5.1,3.5,1.4,0.2,Iris-setosa\\n',\n",
       " '4.9,3.0,1.4,0.2,Iris-setosa\\n',\n",
       " '4.7,3.2,1.3,0.2,Iris-setosa\\n',\n",
       " '4.6,3.1,1.5,0.2,Iris-setosa\\n',\n",
       " '5.0,3.6,1.4,0.2,Iris-setosa\\n',\n",
       " '5.4,3.9,1.7,0.4,Iris-setosa\\n',\n",
       " '4.6,3.4,1.4,0.3,Iris-setosa\\n',\n",
       " '5.0,3.4,1.5,0.2,Iris-setosa\\n',\n",
       " '4.4,2.9,1.4,0.2,Iris-setosa\\n',\n",
       " '4.9,3.1,1.5,0.1,Iris-setosa\\n',\n",
       " '5.4,3.7,1.5,0.2,Iris-setosa\\n',\n",
       " '4.8,3.4,1.6,0.2,Iris-setosa\\n',\n",
       " '4.8,3.0,1.4,0.1,Iris-setosa\\n',\n",
       " '4.3,3.0,1.1,0.1,Iris-setosa\\n',\n",
       " '5.8,4.0,1.2,0.2,Iris-setosa\\n',\n",
       " '5.7,4.4,1.5,0.4,Iris-setosa\\n',\n",
       " '5.4,3.9,1.3,0.4,Iris-setosa\\n',\n",
       " '5.1,3.5,1.4,0.3,Iris-setosa\\n',\n",
       " '5.7,3.8,1.7,0.3,Iris-setosa\\n',\n",
       " '5.1,3.8,1.5,0.3,Iris-setosa\\n',\n",
       " '5.4,3.4,1.7,0.2,Iris-setosa\\n',\n",
       " '5.1,3.7,1.5,0.4,Iris-setosa\\n',\n",
       " '4.6,3.6,1.0,0.2,Iris-setosa\\n',\n",
       " '5.1,3.3,1.7,0.5,Iris-setosa\\n',\n",
       " '4.8,3.4,1.9,0.2,Iris-setosa\\n',\n",
       " '5.0,3.0,1.6,0.2,Iris-setosa\\n',\n",
       " '5.0,3.4,1.6,0.4,Iris-setosa\\n',\n",
       " '5.2,3.5,1.5,0.2,Iris-setosa\\n',\n",
       " '5.2,3.4,1.4,0.2,Iris-setosa\\n',\n",
       " '4.7,3.2,1.6,0.2,Iris-setosa\\n',\n",
       " '4.8,3.1,1.6,0.2,Iris-setosa\\n',\n",
       " '5.4,3.4,1.5,0.4,Iris-setosa\\n',\n",
       " '5.2,4.1,1.5,0.1,Iris-setosa\\n',\n",
       " '5.5,4.2,1.4,0.2,Iris-setosa\\n',\n",
       " '4.9,3.1,1.5,0.1,Iris-setosa\\n',\n",
       " '5.0,3.2,1.2,0.2,Iris-setosa\\n',\n",
       " '5.5,3.5,1.3,0.2,Iris-setosa\\n',\n",
       " '4.9,3.1,1.5,0.1,Iris-setosa\\n',\n",
       " '4.4,3.0,1.3,0.2,Iris-setosa\\n',\n",
       " '5.1,3.4,1.5,0.2,Iris-setosa\\n',\n",
       " '5.0,3.5,1.3,0.3,Iris-setosa\\n',\n",
       " '4.5,2.3,1.3,0.3,Iris-setosa\\n',\n",
       " '4.4,3.2,1.3,0.2,Iris-setosa\\n',\n",
       " '5.0,3.5,1.6,0.6,Iris-setosa\\n',\n",
       " '5.1,3.8,1.9,0.4,Iris-setosa\\n',\n",
       " '4.8,3.0,1.4,0.3,Iris-setosa\\n',\n",
       " '5.1,3.8,1.6,0.2,Iris-setosa\\n',\n",
       " '4.6,3.2,1.4,0.2,Iris-setosa\\n',\n",
       " '5.3,3.7,1.5,0.2,Iris-setosa\\n',\n",
       " '5.0,3.3,1.4,0.2,Iris-setosa\\n',\n",
       " '7.0,3.2,4.7,1.4,Iris-versicolor\\n',\n",
       " '6.4,3.2,4.5,1.5,Iris-versicolor\\n',\n",
       " '6.9,3.1,4.9,1.5,Iris-versicolor\\n',\n",
       " '5.5,2.3,4.0,1.3,Iris-versicolor\\n',\n",
       " '6.5,2.8,4.6,1.5,Iris-versicolor\\n',\n",
       " '5.7,2.8,4.5,1.3,Iris-versicolor\\n',\n",
       " '6.3,3.3,4.7,1.6,Iris-versicolor\\n',\n",
       " '4.9,2.4,3.3,1.0,Iris-versicolor\\n',\n",
       " '6.6,2.9,4.6,1.3,Iris-versicolor\\n',\n",
       " '5.2,2.7,3.9,1.4,Iris-versicolor\\n',\n",
       " '5.0,2.0,3.5,1.0,Iris-versicolor\\n',\n",
       " '5.9,3.0,4.2,1.5,Iris-versicolor\\n',\n",
       " '6.0,2.2,4.0,1.0,Iris-versicolor\\n',\n",
       " '6.1,2.9,4.7,1.4,Iris-versicolor\\n',\n",
       " '5.6,2.9,3.6,1.3,Iris-versicolor\\n',\n",
       " '6.7,3.1,4.4,1.4,Iris-versicolor\\n',\n",
       " '5.6,3.0,4.5,1.5,Iris-versicolor\\n',\n",
       " '5.8,2.7,4.1,1.0,Iris-versicolor\\n',\n",
       " '6.2,2.2,4.5,1.5,Iris-versicolor\\n',\n",
       " '5.6,2.5,3.9,1.1,Iris-versicolor\\n',\n",
       " '5.9,3.2,4.8,1.8,Iris-versicolor\\n',\n",
       " '6.1,2.8,4.0,1.3,Iris-versicolor\\n',\n",
       " '6.3,2.5,4.9,1.5,Iris-versicolor\\n',\n",
       " '6.1,2.8,4.7,1.2,Iris-versicolor\\n',\n",
       " '6.4,2.9,4.3,1.3,Iris-versicolor\\n',\n",
       " '6.6,3.0,4.4,1.4,Iris-versicolor\\n',\n",
       " '6.8,2.8,4.8,1.4,Iris-versicolor\\n',\n",
       " '6.7,3.0,5.0,1.7,Iris-versicolor\\n',\n",
       " '6.0,2.9,4.5,1.5,Iris-versicolor\\n',\n",
       " '5.7,2.6,3.5,1.0,Iris-versicolor\\n',\n",
       " '5.5,2.4,3.8,1.1,Iris-versicolor\\n',\n",
       " '5.5,2.4,3.7,1.0,Iris-versicolor\\n',\n",
       " '5.8,2.7,3.9,1.2,Iris-versicolor\\n',\n",
       " '6.0,2.7,5.1,1.6,Iris-versicolor\\n',\n",
       " '5.4,3.0,4.5,1.5,Iris-versicolor\\n',\n",
       " '6.0,3.4,4.5,1.6,Iris-versicolor\\n',\n",
       " '6.7,3.1,4.7,1.5,Iris-versicolor\\n',\n",
       " '6.3,2.3,4.4,1.3,Iris-versicolor\\n',\n",
       " '5.6,3.0,4.1,1.3,Iris-versicolor\\n',\n",
       " '5.5,2.5,4.0,1.3,Iris-versicolor\\n',\n",
       " '5.5,2.6,4.4,1.2,Iris-versicolor\\n',\n",
       " '6.1,3.0,4.6,1.4,Iris-versicolor\\n',\n",
       " '5.8,2.6,4.0,1.2,Iris-versicolor\\n',\n",
       " '5.0,2.3,3.3,1.0,Iris-versicolor\\n',\n",
       " '5.6,2.7,4.2,1.3,Iris-versicolor\\n',\n",
       " '5.7,3.0,4.2,1.2,Iris-versicolor\\n',\n",
       " '5.7,2.9,4.2,1.3,Iris-versicolor\\n',\n",
       " '6.2,2.9,4.3,1.3,Iris-versicolor\\n',\n",
       " '5.1,2.5,3.0,1.1,Iris-versicolor\\n',\n",
       " '5.7,2.8,4.1,1.3,Iris-versicolor\\n',\n",
       " '6.3,3.3,6.0,2.5,Iris-virginica\\n',\n",
       " '5.8,2.7,5.1,1.9,Iris-virginica\\n',\n",
       " '7.1,3.0,5.9,2.1,Iris-virginica\\n',\n",
       " '6.3,2.9,5.6,1.8,Iris-virginica\\n',\n",
       " '6.5,3.0,5.8,2.2,Iris-virginica\\n',\n",
       " '7.6,3.0,6.6,2.1,Iris-virginica\\n',\n",
       " '4.9,2.5,4.5,1.7,Iris-virginica\\n',\n",
       " '7.3,2.9,6.3,1.8,Iris-virginica\\n',\n",
       " '6.7,2.5,5.8,1.8,Iris-virginica\\n',\n",
       " '7.2,3.6,6.1,2.5,Iris-virginica\\n',\n",
       " '6.5,3.2,5.1,2.0,Iris-virginica\\n',\n",
       " '6.4,2.7,5.3,1.9,Iris-virginica\\n',\n",
       " '6.8,3.0,5.5,2.1,Iris-virginica\\n',\n",
       " '5.7,2.5,5.0,2.0,Iris-virginica\\n',\n",
       " '5.8,2.8,5.1,2.4,Iris-virginica\\n',\n",
       " '6.4,3.2,5.3,2.3,Iris-virginica\\n',\n",
       " '6.5,3.0,5.5,1.8,Iris-virginica\\n',\n",
       " '7.7,3.8,6.7,2.2,Iris-virginica\\n',\n",
       " '7.7,2.6,6.9,2.3,Iris-virginica\\n',\n",
       " '6.0,2.2,5.0,1.5,Iris-virginica\\n',\n",
       " '6.9,3.2,5.7,2.3,Iris-virginica\\n',\n",
       " '5.6,2.8,4.9,2.0,Iris-virginica\\n',\n",
       " '7.7,2.8,6.7,2.0,Iris-virginica\\n',\n",
       " '6.3,2.7,4.9,1.8,Iris-virginica\\n',\n",
       " '6.7,3.3,5.7,2.1,Iris-virginica\\n',\n",
       " '7.2,3.2,6.0,1.8,Iris-virginica\\n',\n",
       " '6.2,2.8,4.8,1.8,Iris-virginica\\n',\n",
       " '6.1,3.0,4.9,1.8,Iris-virginica\\n',\n",
       " '6.4,2.8,5.6,2.1,Iris-virginica\\n',\n",
       " '7.2,3.0,5.8,1.6,Iris-virginica\\n',\n",
       " '7.4,2.8,6.1,1.9,Iris-virginica\\n',\n",
       " '7.9,3.8,6.4,2.0,Iris-virginica\\n',\n",
       " '6.4,2.8,5.6,2.2,Iris-virginica\\n',\n",
       " '6.3,2.8,5.1,1.5,Iris-virginica\\n',\n",
       " '6.1,2.6,5.6,1.4,Iris-virginica\\n',\n",
       " '7.7,3.0,6.1,2.3,Iris-virginica\\n',\n",
       " '6.3,3.4,5.6,2.4,Iris-virginica\\n',\n",
       " '6.4,3.1,5.5,1.8,Iris-virginica\\n',\n",
       " '6.0,3.0,4.8,1.8,Iris-virginica\\n',\n",
       " '6.9,3.1,5.4,2.1,Iris-virginica\\n',\n",
       " '6.7,3.1,5.6,2.4,Iris-virginica\\n',\n",
       " '6.9,3.1,5.1,2.3,Iris-virginica\\n',\n",
       " '5.8,2.7,5.1,1.9,Iris-virginica\\n',\n",
       " '6.8,3.2,5.9,2.3,Iris-virginica\\n',\n",
       " '6.7,3.3,5.7,2.5,Iris-virginica\\n',\n",
       " '6.7,3.0,5.2,2.3,Iris-virginica\\n',\n",
       " '6.3,2.5,5.0,1.9,Iris-virginica\\n',\n",
       " '6.5,3.0,5.2,2.0,Iris-virginica\\n',\n",
       " '6.2,3.4,5.4,2.3,Iris-virginica\\n',\n",
       " '5.9,3.0,5.1,1.8,Iris-virginica\\n',\n",
       " '\\n']"
      ]
     },
     "execution_count": 12,
     "metadata": {},
     "output_type": "execute_result"
    }
   ],
   "source": [
    "ll"
   ]
  },
  {
   "cell_type": "code",
   "execution_count": 13,
   "id": "1a0137d6-426a-4d76-8da9-efd373392f82",
   "metadata": {
    "tags": []
   },
   "outputs": [],
   "source": [
    "with open('iris.data') as f:\n",
    "    ll = [i[:-2] for i in f.readlines()]"
   ]
  },
  {
   "cell_type": "code",
   "execution_count": 14,
   "id": "6228fd28-97ea-4b2f-a70e-fdf10cb600de",
   "metadata": {
    "tags": []
   },
   "outputs": [
    {
     "data": {
      "text/plain": [
       "['5.1,3.5,1.4,0.2,Iris-setos',\n",
       " '4.9,3.0,1.4,0.2,Iris-setos',\n",
       " '4.7,3.2,1.3,0.2,Iris-setos',\n",
       " '4.6,3.1,1.5,0.2,Iris-setos',\n",
       " '5.0,3.6,1.4,0.2,Iris-setos',\n",
       " '5.4,3.9,1.7,0.4,Iris-setos',\n",
       " '4.6,3.4,1.4,0.3,Iris-setos',\n",
       " '5.0,3.4,1.5,0.2,Iris-setos',\n",
       " '4.4,2.9,1.4,0.2,Iris-setos',\n",
       " '4.9,3.1,1.5,0.1,Iris-setos',\n",
       " '5.4,3.7,1.5,0.2,Iris-setos',\n",
       " '4.8,3.4,1.6,0.2,Iris-setos',\n",
       " '4.8,3.0,1.4,0.1,Iris-setos',\n",
       " '4.3,3.0,1.1,0.1,Iris-setos',\n",
       " '5.8,4.0,1.2,0.2,Iris-setos',\n",
       " '5.7,4.4,1.5,0.4,Iris-setos',\n",
       " '5.4,3.9,1.3,0.4,Iris-setos',\n",
       " '5.1,3.5,1.4,0.3,Iris-setos',\n",
       " '5.7,3.8,1.7,0.3,Iris-setos',\n",
       " '5.1,3.8,1.5,0.3,Iris-setos',\n",
       " '5.4,3.4,1.7,0.2,Iris-setos',\n",
       " '5.1,3.7,1.5,0.4,Iris-setos',\n",
       " '4.6,3.6,1.0,0.2,Iris-setos',\n",
       " '5.1,3.3,1.7,0.5,Iris-setos',\n",
       " '4.8,3.4,1.9,0.2,Iris-setos',\n",
       " '5.0,3.0,1.6,0.2,Iris-setos',\n",
       " '5.0,3.4,1.6,0.4,Iris-setos',\n",
       " '5.2,3.5,1.5,0.2,Iris-setos',\n",
       " '5.2,3.4,1.4,0.2,Iris-setos',\n",
       " '4.7,3.2,1.6,0.2,Iris-setos',\n",
       " '4.8,3.1,1.6,0.2,Iris-setos',\n",
       " '5.4,3.4,1.5,0.4,Iris-setos',\n",
       " '5.2,4.1,1.5,0.1,Iris-setos',\n",
       " '5.5,4.2,1.4,0.2,Iris-setos',\n",
       " '4.9,3.1,1.5,0.1,Iris-setos',\n",
       " '5.0,3.2,1.2,0.2,Iris-setos',\n",
       " '5.5,3.5,1.3,0.2,Iris-setos',\n",
       " '4.9,3.1,1.5,0.1,Iris-setos',\n",
       " '4.4,3.0,1.3,0.2,Iris-setos',\n",
       " '5.1,3.4,1.5,0.2,Iris-setos',\n",
       " '5.0,3.5,1.3,0.3,Iris-setos',\n",
       " '4.5,2.3,1.3,0.3,Iris-setos',\n",
       " '4.4,3.2,1.3,0.2,Iris-setos',\n",
       " '5.0,3.5,1.6,0.6,Iris-setos',\n",
       " '5.1,3.8,1.9,0.4,Iris-setos',\n",
       " '4.8,3.0,1.4,0.3,Iris-setos',\n",
       " '5.1,3.8,1.6,0.2,Iris-setos',\n",
       " '4.6,3.2,1.4,0.2,Iris-setos',\n",
       " '5.3,3.7,1.5,0.2,Iris-setos',\n",
       " '5.0,3.3,1.4,0.2,Iris-setos',\n",
       " '7.0,3.2,4.7,1.4,Iris-versicolo',\n",
       " '6.4,3.2,4.5,1.5,Iris-versicolo',\n",
       " '6.9,3.1,4.9,1.5,Iris-versicolo',\n",
       " '5.5,2.3,4.0,1.3,Iris-versicolo',\n",
       " '6.5,2.8,4.6,1.5,Iris-versicolo',\n",
       " '5.7,2.8,4.5,1.3,Iris-versicolo',\n",
       " '6.3,3.3,4.7,1.6,Iris-versicolo',\n",
       " '4.9,2.4,3.3,1.0,Iris-versicolo',\n",
       " '6.6,2.9,4.6,1.3,Iris-versicolo',\n",
       " '5.2,2.7,3.9,1.4,Iris-versicolo',\n",
       " '5.0,2.0,3.5,1.0,Iris-versicolo',\n",
       " '5.9,3.0,4.2,1.5,Iris-versicolo',\n",
       " '6.0,2.2,4.0,1.0,Iris-versicolo',\n",
       " '6.1,2.9,4.7,1.4,Iris-versicolo',\n",
       " '5.6,2.9,3.6,1.3,Iris-versicolo',\n",
       " '6.7,3.1,4.4,1.4,Iris-versicolo',\n",
       " '5.6,3.0,4.5,1.5,Iris-versicolo',\n",
       " '5.8,2.7,4.1,1.0,Iris-versicolo',\n",
       " '6.2,2.2,4.5,1.5,Iris-versicolo',\n",
       " '5.6,2.5,3.9,1.1,Iris-versicolo',\n",
       " '5.9,3.2,4.8,1.8,Iris-versicolo',\n",
       " '6.1,2.8,4.0,1.3,Iris-versicolo',\n",
       " '6.3,2.5,4.9,1.5,Iris-versicolo',\n",
       " '6.1,2.8,4.7,1.2,Iris-versicolo',\n",
       " '6.4,2.9,4.3,1.3,Iris-versicolo',\n",
       " '6.6,3.0,4.4,1.4,Iris-versicolo',\n",
       " '6.8,2.8,4.8,1.4,Iris-versicolo',\n",
       " '6.7,3.0,5.0,1.7,Iris-versicolo',\n",
       " '6.0,2.9,4.5,1.5,Iris-versicolo',\n",
       " '5.7,2.6,3.5,1.0,Iris-versicolo',\n",
       " '5.5,2.4,3.8,1.1,Iris-versicolo',\n",
       " '5.5,2.4,3.7,1.0,Iris-versicolo',\n",
       " '5.8,2.7,3.9,1.2,Iris-versicolo',\n",
       " '6.0,2.7,5.1,1.6,Iris-versicolo',\n",
       " '5.4,3.0,4.5,1.5,Iris-versicolo',\n",
       " '6.0,3.4,4.5,1.6,Iris-versicolo',\n",
       " '6.7,3.1,4.7,1.5,Iris-versicolo',\n",
       " '6.3,2.3,4.4,1.3,Iris-versicolo',\n",
       " '5.6,3.0,4.1,1.3,Iris-versicolo',\n",
       " '5.5,2.5,4.0,1.3,Iris-versicolo',\n",
       " '5.5,2.6,4.4,1.2,Iris-versicolo',\n",
       " '6.1,3.0,4.6,1.4,Iris-versicolo',\n",
       " '5.8,2.6,4.0,1.2,Iris-versicolo',\n",
       " '5.0,2.3,3.3,1.0,Iris-versicolo',\n",
       " '5.6,2.7,4.2,1.3,Iris-versicolo',\n",
       " '5.7,3.0,4.2,1.2,Iris-versicolo',\n",
       " '5.7,2.9,4.2,1.3,Iris-versicolo',\n",
       " '6.2,2.9,4.3,1.3,Iris-versicolo',\n",
       " '5.1,2.5,3.0,1.1,Iris-versicolo',\n",
       " '5.7,2.8,4.1,1.3,Iris-versicolo',\n",
       " '6.3,3.3,6.0,2.5,Iris-virginic',\n",
       " '5.8,2.7,5.1,1.9,Iris-virginic',\n",
       " '7.1,3.0,5.9,2.1,Iris-virginic',\n",
       " '6.3,2.9,5.6,1.8,Iris-virginic',\n",
       " '6.5,3.0,5.8,2.2,Iris-virginic',\n",
       " '7.6,3.0,6.6,2.1,Iris-virginic',\n",
       " '4.9,2.5,4.5,1.7,Iris-virginic',\n",
       " '7.3,2.9,6.3,1.8,Iris-virginic',\n",
       " '6.7,2.5,5.8,1.8,Iris-virginic',\n",
       " '7.2,3.6,6.1,2.5,Iris-virginic',\n",
       " '6.5,3.2,5.1,2.0,Iris-virginic',\n",
       " '6.4,2.7,5.3,1.9,Iris-virginic',\n",
       " '6.8,3.0,5.5,2.1,Iris-virginic',\n",
       " '5.7,2.5,5.0,2.0,Iris-virginic',\n",
       " '5.8,2.8,5.1,2.4,Iris-virginic',\n",
       " '6.4,3.2,5.3,2.3,Iris-virginic',\n",
       " '6.5,3.0,5.5,1.8,Iris-virginic',\n",
       " '7.7,3.8,6.7,2.2,Iris-virginic',\n",
       " '7.7,2.6,6.9,2.3,Iris-virginic',\n",
       " '6.0,2.2,5.0,1.5,Iris-virginic',\n",
       " '6.9,3.2,5.7,2.3,Iris-virginic',\n",
       " '5.6,2.8,4.9,2.0,Iris-virginic',\n",
       " '7.7,2.8,6.7,2.0,Iris-virginic',\n",
       " '6.3,2.7,4.9,1.8,Iris-virginic',\n",
       " '6.7,3.3,5.7,2.1,Iris-virginic',\n",
       " '7.2,3.2,6.0,1.8,Iris-virginic',\n",
       " '6.2,2.8,4.8,1.8,Iris-virginic',\n",
       " '6.1,3.0,4.9,1.8,Iris-virginic',\n",
       " '6.4,2.8,5.6,2.1,Iris-virginic',\n",
       " '7.2,3.0,5.8,1.6,Iris-virginic',\n",
       " '7.4,2.8,6.1,1.9,Iris-virginic',\n",
       " '7.9,3.8,6.4,2.0,Iris-virginic',\n",
       " '6.4,2.8,5.6,2.2,Iris-virginic',\n",
       " '6.3,2.8,5.1,1.5,Iris-virginic',\n",
       " '6.1,2.6,5.6,1.4,Iris-virginic',\n",
       " '7.7,3.0,6.1,2.3,Iris-virginic',\n",
       " '6.3,3.4,5.6,2.4,Iris-virginic',\n",
       " '6.4,3.1,5.5,1.8,Iris-virginic',\n",
       " '6.0,3.0,4.8,1.8,Iris-virginic',\n",
       " '6.9,3.1,5.4,2.1,Iris-virginic',\n",
       " '6.7,3.1,5.6,2.4,Iris-virginic',\n",
       " '6.9,3.1,5.1,2.3,Iris-virginic',\n",
       " '5.8,2.7,5.1,1.9,Iris-virginic',\n",
       " '6.8,3.2,5.9,2.3,Iris-virginic',\n",
       " '6.7,3.3,5.7,2.5,Iris-virginic',\n",
       " '6.7,3.0,5.2,2.3,Iris-virginic',\n",
       " '6.3,2.5,5.0,1.9,Iris-virginic',\n",
       " '6.5,3.0,5.2,2.0,Iris-virginic',\n",
       " '6.2,3.4,5.4,2.3,Iris-virginic',\n",
       " '5.9,3.0,5.1,1.8,Iris-virginic',\n",
       " '']"
      ]
     },
     "execution_count": 14,
     "metadata": {},
     "output_type": "execute_result"
    }
   ],
   "source": [
    "ll"
   ]
  },
  {
   "cell_type": "code",
   "execution_count": 43,
   "id": "9ebdb8c2-08db-49a9-8345-431e2188d8f1",
   "metadata": {
    "tags": []
   },
   "outputs": [
    {
     "ename": "AttributeError",
     "evalue": "'list' object has no attribute 'head'",
     "output_type": "error",
     "traceback": [
      "\u001b[0;31m---------------------------------------------------------------------------\u001b[0m",
      "\u001b[0;31mAttributeError\u001b[0m                            Traceback (most recent call last)",
      "Cell \u001b[0;32mIn[43], line 2\u001b[0m\n\u001b[1;32m      1\u001b[0m x \u001b[38;5;241m=\u001b[39m [n\u001b[38;5;241m.\u001b[39mindex(i\u001b[38;5;241m.\u001b[39msplit(\u001b[38;5;124m'\u001b[39m\u001b[38;5;124m,\u001b[39m\u001b[38;5;124m'\u001b[39m)[\u001b[38;5;241m-\u001b[39m\u001b[38;5;241m1\u001b[39m]) \u001b[38;5;28;01mfor\u001b[39;00m i \u001b[38;5;129;01min\u001b[39;00m lines \u001b[38;5;28;01mif\u001b[39;00m i \u001b[38;5;241m!=\u001b[39m \u001b[38;5;124m'\u001b[39m\u001b[38;5;124m'\u001b[39m]\n\u001b[0;32m----> 2\u001b[0m \u001b[43mx\u001b[49m\u001b[38;5;241;43m.\u001b[39;49m\u001b[43mhead\u001b[49m(\u001b[38;5;241m5\u001b[39m)\n",
      "\u001b[0;31mAttributeError\u001b[0m: 'list' object has no attribute 'head'"
     ]
    }
   ],
   "source": [
    "x = [n.index(i.split(',')[-1]) for i in lines if i != '']\n",
    "x"
   ]
  },
  {
   "cell_type": "code",
   "execution_count": 18,
   "id": "5c5ec38d-f9eb-4849-9052-6dae339e0af7",
   "metadata": {
    "tags": []
   },
   "outputs": [
    {
     "data": {
      "text/plain": [
       "list"
      ]
     },
     "execution_count": 18,
     "metadata": {},
     "output_type": "execute_result"
    }
   ],
   "source": [
    "type(n)"
   ]
  },
  {
   "cell_type": "code",
   "execution_count": 19,
   "id": "1a77239d-a15b-43e7-af30-606b88133500",
   "metadata": {
    "tags": []
   },
   "outputs": [
    {
     "data": {
      "text/plain": [
       "['Iris-setosa', 'Iris-versicolor', 'Iris-virginica']"
      ]
     },
     "execution_count": 19,
     "metadata": {},
     "output_type": "execute_result"
    }
   ],
   "source": [
    "n"
   ]
  },
  {
   "cell_type": "code",
   "execution_count": 21,
   "id": "1cc843cc-0916-4d84-8ccc-1131ccf11066",
   "metadata": {
    "tags": []
   },
   "outputs": [
    {
     "data": {
      "text/plain": [
       "'4.9,3.0,1.4,0.2,Iris-setosa'"
      ]
     },
     "execution_count": 21,
     "metadata": {},
     "output_type": "execute_result"
    }
   ],
   "source": [
    "lines[1]"
   ]
  },
  {
   "cell_type": "code",
   "execution_count": 24,
   "id": "cd677949-4b17-4484-868d-130ae12ed9a6",
   "metadata": {
    "tags": []
   },
   "outputs": [
    {
     "data": {
      "text/plain": [
       "['5.1', '3.5', '1.4', '0.2', 'Iris-setosa']"
      ]
     },
     "execution_count": 24,
     "metadata": {},
     "output_type": "execute_result"
    }
   ],
   "source": [
    "lines[0].split(',')"
   ]
  },
  {
   "cell_type": "code",
   "execution_count": 30,
   "id": "0318a0a8-aa26-4954-9bad-b4a9d3e440dc",
   "metadata": {
    "tags": []
   },
   "outputs": [
    {
     "data": {
      "text/plain": [
       "'Iris-setosa'"
      ]
     },
     "execution_count": 30,
     "metadata": {},
     "output_type": "execute_result"
    }
   ],
   "source": [
    "xxx1 = lines[0].split(',')[-1]\n",
    "xxx1"
   ]
  },
  {
   "cell_type": "code",
   "execution_count": 35,
   "id": "10960005-91bd-4e4e-970d-187363ed2c6b",
   "metadata": {
    "tags": []
   },
   "outputs": [
    {
     "data": {
      "text/plain": [
       "'Iris-setosa'"
      ]
     },
     "execution_count": 35,
     "metadata": {},
     "output_type": "execute_result"
    }
   ],
   "source": [
    "xxx2 = lines[1].split(',')[-1]\n",
    "xxx2"
   ]
  },
  {
   "cell_type": "code",
   "execution_count": 39,
   "id": "3d20ff24-c1e8-4562-a7a8-92b0dccb23e5",
   "metadata": {
    "tags": []
   },
   "outputs": [
    {
     "data": {
      "text/plain": [
       "['Iris-setosa', 'Iris-setosa']"
      ]
     },
     "execution_count": 39,
     "metadata": {},
     "output_type": "execute_result"
    }
   ],
   "source": [
    "xxx = [xxx1, xxx2]\n",
    "xxx"
   ]
  },
  {
   "cell_type": "code",
   "execution_count": 40,
   "id": "da11ad1d-3454-496b-bdfc-e69286b3ecf2",
   "metadata": {
    "tags": []
   },
   "outputs": [
    {
     "data": {
      "text/plain": [
       "list"
      ]
     },
     "execution_count": 40,
     "metadata": {},
     "output_type": "execute_result"
    }
   ],
   "source": [
    "type(xxx)"
   ]
  },
  {
   "cell_type": "code",
   "execution_count": 46,
   "id": "5ac386cf-3568-4530-9277-5a6258bb298a",
   "metadata": {
    "tags": []
   },
   "outputs": [
    {
     "ename": "ValueError",
     "evalue": "The truth value of an array with more than one element is ambiguous. Use a.any() or a.all()",
     "output_type": "error",
     "traceback": [
      "\u001b[0;31m---------------------------------------------------------------------------\u001b[0m",
      "\u001b[0;31mValueError\u001b[0m                                Traceback (most recent call last)",
      "Cell \u001b[0;32mIn[46], line 1\u001b[0m\n\u001b[0;32m----> 1\u001b[0m xxx \u001b[38;5;241m=\u001b[39m \u001b[43mn\u001b[49m\u001b[38;5;241;43m.\u001b[39;49m\u001b[43mindex\u001b[49m\u001b[43m(\u001b[49m\u001b[43mnp\u001b[49m\u001b[38;5;241;43m.\u001b[39;49m\u001b[43marray\u001b[49m\u001b[43m(\u001b[49m\u001b[43mxxx\u001b[49m\u001b[43m)\u001b[49m\u001b[43m)\u001b[49m\n\u001b[1;32m      2\u001b[0m xxx\n",
      "\u001b[0;31mValueError\u001b[0m: The truth value of an array with more than one element is ambiguous. Use a.any() or a.all()"
     ]
    }
   ],
   "source": [
    "xxx = n.index(np.array(xxx))\n",
    "xxx"
   ]
  },
  {
   "cell_type": "code",
   "execution_count": 34,
   "id": "5cf9b16d-8ba6-4a87-95e2-685bcce198c3",
   "metadata": {
    "tags": []
   },
   "outputs": [
    {
     "ename": "ValueError",
     "evalue": "invalid literal for int() with base 10: 'Iris-setosa'",
     "output_type": "error",
     "traceback": [
      "\u001b[0;31m---------------------------------------------------------------------------\u001b[0m",
      "\u001b[0;31mValueError\u001b[0m                                Traceback (most recent call last)",
      "Cell \u001b[0;32mIn[34], line 1\u001b[0m\n\u001b[0;32m----> 1\u001b[0m xxx \u001b[38;5;241m=\u001b[39m \u001b[43mnp\u001b[49m\u001b[38;5;241;43m.\u001b[39;49m\u001b[43marray\u001b[49m\u001b[43m(\u001b[49m\u001b[43m[\u001b[49m\u001b[43mxxx1\u001b[49m\u001b[43m,\u001b[49m\u001b[43m \u001b[49m\u001b[43mxxx2\u001b[49m\u001b[43m]\u001b[49m\u001b[43m,\u001b[49m\u001b[43m \u001b[49m\u001b[43mdtype\u001b[49m\u001b[38;5;241;43m=\u001b[39;49m\u001b[38;5;124;43m'\u001b[39;49m\u001b[38;5;124;43muint8\u001b[39;49m\u001b[38;5;124;43m'\u001b[39;49m\u001b[43m)\u001b[49m\n\u001b[1;32m      2\u001b[0m xxx\n",
      "\u001b[0;31mValueError\u001b[0m: invalid literal for int() with base 10: 'Iris-setosa'"
     ]
    }
   ],
   "source": [
    "xxx = np.array([xxx1, xxx2], dtype='uint8')\n",
    "xxx"
   ]
  },
  {
   "cell_type": "code",
   "execution_count": 48,
   "id": "642c56e7-371d-444a-9209-dd49a6cdeb2c",
   "metadata": {
    "tags": []
   },
   "outputs": [
    {
     "data": {
      "text/plain": [
       "0"
      ]
     },
     "execution_count": 48,
     "metadata": {},
     "output_type": "execute_result"
    }
   ],
   "source": [
    "n.index(xxx1)"
   ]
  },
  {
   "cell_type": "code",
   "execution_count": 49,
   "id": "32158628-77bc-4681-8527-277a9bb8e30f",
   "metadata": {
    "tags": []
   },
   "outputs": [
    {
     "data": {
      "text/plain": [
       "list"
      ]
     },
     "execution_count": 49,
     "metadata": {},
     "output_type": "execute_result"
    }
   ],
   "source": [
    "type(n)"
   ]
  },
  {
   "cell_type": "code",
   "execution_count": 50,
   "id": "d898fcbb-5e58-48fe-9ec8-e05005a81f91",
   "metadata": {
    "tags": []
   },
   "outputs": [],
   "source": [
    "x = np.array(x, dtype='uint8')"
   ]
  },
  {
   "cell_type": "code",
   "execution_count": 51,
   "id": "ee632c64-76b2-4d05-8a19-1f8c12793a17",
   "metadata": {
    "tags": []
   },
   "outputs": [
    {
     "data": {
      "text/plain": [
       "array([0, 0, 0, 0, 0, 0, 0, 0, 0, 0, 0, 0, 0, 0, 0, 0, 0, 0, 0, 0, 0, 0,\n",
       "       0, 0, 0, 0, 0, 0, 0, 0, 0, 0, 0, 0, 0, 0, 0, 0, 0, 0, 0, 0, 0, 0,\n",
       "       0, 0, 0, 0, 0, 0, 1, 1, 1, 1, 1, 1, 1, 1, 1, 1, 1, 1, 1, 1, 1, 1,\n",
       "       1, 1, 1, 1, 1, 1, 1, 1, 1, 1, 1, 1, 1, 1, 1, 1, 1, 1, 1, 1, 1, 1,\n",
       "       1, 1, 1, 1, 1, 1, 1, 1, 1, 1, 1, 1, 2, 2, 2, 2, 2, 2, 2, 2, 2, 2,\n",
       "       2, 2, 2, 2, 2, 2, 2, 2, 2, 2, 2, 2, 2, 2, 2, 2, 2, 2, 2, 2, 2, 2,\n",
       "       2, 2, 2, 2, 2, 2, 2, 2, 2, 2, 2, 2, 2, 2, 2, 2, 2, 2], dtype=uint8)"
      ]
     },
     "execution_count": 51,
     "metadata": {},
     "output_type": "execute_result"
    }
   ],
   "source": [
    "x"
   ]
  },
  {
   "cell_type": "code",
   "execution_count": 55,
   "id": "97d40219-2dc6-4da5-a122-488d25a8d319",
   "metadata": {
    "tags": []
   },
   "outputs": [],
   "source": [
    "y = [[float(j) for j in i.split(',')[:-1]] for i in lines if i != '']"
   ]
  },
  {
   "cell_type": "code",
   "execution_count": 56,
   "id": "5c71abec-87b9-44e1-9eee-a613dc5587b8",
   "metadata": {
    "tags": []
   },
   "outputs": [
    {
     "data": {
      "text/plain": [
       "array([111,  78,  69,  67,  44,   3, 124, 129,  85, 140, 113, 133,  59,\n",
       "        45,  51,  14,  92,  48,  76, 148,  89,  41, 143,  22,  16, 139,\n",
       "        99,  98,  18,   6, 130,  27,  81,  96, 141,  72, 137,  77,  28,\n",
       "       138, 119, 117,  63,  46,  23,  43,  68,  17,  97,  33,  40,  24,\n",
       "         8, 107,   5, 128,  54,  94,  74,  73,   9,  49, 126,  64,  36,\n",
       "        12,  52,  91, 127, 103, 102,  53, 114,   1,  15, 122,  79,  70,\n",
       "        32,  26,   2,  58,  84,  34,  20,  71,  80,  21,  83, 135, 132,\n",
       "       110,  82,   7, 146,   0, 125,  65,  57,  38,  13, 101, 116,  55,\n",
       "        35, 134,  86, 108, 145,  31, 136,  10, 123,  61,  88,  66,  19,\n",
       "        56, 142,  87,  29,  47,  93,  25, 109, 112, 120,  42, 104, 106,\n",
       "       144, 147, 118,  62,  90,  75,  11, 105,  60,  30, 121,  95, 100,\n",
       "       149, 115,  50,  39, 131,  37,   4])"
      ]
     },
     "execution_count": 56,
     "metadata": {},
     "output_type": "execute_result"
    }
   ],
   "source": [
    "i = np.argsort(np.random.random(x.shape[0]))"
   ]
  },
  {
   "cell_type": "code",
   "execution_count": 57,
   "id": "832d1d45-2ef2-41d8-9d77-5f8fa229a2f9",
   "metadata": {
    "tags": []
   },
   "outputs": [
    {
     "data": {
      "text/plain": [
       "(150,)"
      ]
     },
     "execution_count": 57,
     "metadata": {},
     "output_type": "execute_result"
    }
   ],
   "source": [
    "x.shape"
   ]
  },
  {
   "cell_type": "code",
   "execution_count": 58,
   "id": "fbb4c75e-3947-444a-8276-4196cab46b9e",
   "metadata": {
    "tags": []
   },
   "outputs": [
    {
     "data": {
      "text/plain": [
       "150"
      ]
     },
     "execution_count": 58,
     "metadata": {},
     "output_type": "execute_result"
    }
   ],
   "source": [
    "x.shape[0]"
   ]
  },
  {
   "cell_type": "code",
   "execution_count": 60,
   "id": "15ba3c35-2379-45a6-a732-3d72093f7d69",
   "metadata": {
    "tags": []
   },
   "outputs": [],
   "source": [
    "x = x[i]\n",
    "y = np.array(y)\n",
    "y = y[i]"
   ]
  },
  {
   "cell_type": "code",
   "execution_count": 61,
   "id": "eed15644-631f-4be1-bf7e-6137f2ff4b3d",
   "metadata": {
    "tags": []
   },
   "outputs": [],
   "source": [
    "np.save('iris_features.npy', y)\n",
    "np.save('iris_labels.npy',   x)"
   ]
  }
 ],
 "metadata": {
  "kernelspec": {
   "display_name": "Python 3 (ipykernel)",
   "language": "python",
   "name": "python3"
  },
  "language_info": {
   "codemirror_mode": {
    "name": "ipython",
    "version": 3
   },
   "file_extension": ".py",
   "mimetype": "text/x-python",
   "name": "python",
   "nbconvert_exporter": "python",
   "pygments_lexer": "ipython3",
   "version": "3.10.4"
  }
 },
 "nbformat": 4,
 "nbformat_minor": 5
}
