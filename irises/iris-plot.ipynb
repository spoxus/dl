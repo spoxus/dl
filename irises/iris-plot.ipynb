{
 "cells": [
  {
   "cell_type": "code",
   "execution_count": 1,
   "id": "c9ff3a62-22be-4294-9693-3283c6466367",
   "metadata": {
    "tags": []
   },
   "outputs": [],
   "source": [
    "import numpy as np\n",
    "import matplotlib.pyplot as plt"
   ]
  },
  {
   "cell_type": "code",
   "execution_count": 2,
   "id": "02bb1d90-3ea6-4d73-b395-839f892082c5",
   "metadata": {
    "tags": []
   },
   "outputs": [],
   "source": [
    "x = np.load('iris_features.npy')"
   ]
  },
  {
   "cell_type": "code",
   "execution_count": 4,
   "id": "31d7abf1-1ed9-43fd-9fe3-02daaa39fe74",
   "metadata": {
    "tags": []
   },
   "outputs": [],
   "source": [
    "y = np.load('iris_labels.npy')"
   ]
  },
  {
   "cell_type": "code",
   "execution_count": 9,
   "id": "2523943e-0bf6-4f48-b7ae-b682f4e28aa9",
   "metadata": {
    "tags": []
   },
   "outputs": [],
   "source": [
    "x0 = np.where(y == 0)"
   ]
  },
  {
   "cell_type": "code",
   "execution_count": 16,
   "id": "ea68881a-1268-4a0d-a6a2-f01c88ddd2ae",
   "metadata": {
    "tags": []
   },
   "outputs": [],
   "source": [
    "x1 = np.where(y == 1)"
   ]
  },
  {
   "cell_type": "code",
   "execution_count": 17,
   "id": "f307e4b6-4e13-4b9a-9ee6-07815f1dc356",
   "metadata": {
    "tags": []
   },
   "outputs": [],
   "source": [
    "x2 = np.where(y == 2)\n",
    "x3 = np.where(y == 3)"
   ]
  },
  {
   "cell_type": "code",
   "execution_count": 19,
   "id": "f96205e2-77b5-4ab6-99c2-657221c4e16c",
   "metadata": {
    "tags": []
   },
   "outputs": [
    {
     "data": {
      "text/plain": [
       "{'whiskers': [<matplotlib.lines.Line2D at 0x7f2b4c317520>,\n",
       "  <matplotlib.lines.Line2D at 0x7f2b4c3177c0>],\n",
       " 'caps': [<matplotlib.lines.Line2D at 0x7f2b4c315fc0>,\n",
       "  <matplotlib.lines.Line2D at 0x7f2b4c317be0>],\n",
       " 'boxes': [<matplotlib.lines.Line2D at 0x7f2b4c317280>],\n",
       " 'medians': [<matplotlib.lines.Line2D at 0x7f2b4c317e80>],\n",
       " 'fliers': [<matplotlib.lines.Line2D at 0x7f2b4c350160>],\n",
       " 'means': []}"
      ]
     },
     "execution_count": 19,
     "metadata": {},
     "output_type": "execute_result"
    },
    {
     "data": {
      "image/png": "[encoded data removed]",
      "text/plain": [
       "<Figure size 640x480 with 1 Axes>"
      ]
     },
     "metadata": {},
     "output_type": "display_data"
    }
   ],
   "source": [
    "#fig1, x1 = plt.subplots()\n",
    "plt.boxplot(x0)\n",
    "#plt.boxplot(x1)"
   ]
  },
  {
   "cell_type": "code",
   "execution_count": null,
   "id": "c73dd383-5e07-4ac4-9b0c-5c7ba15ee216",
   "metadata": {},
   "outputs": [],
   "source": []
  }
 ],
 "metadata": {
  "kernelspec": {
   "display_name": "Python 3 (ipykernel)",
   "language": "python",
   "name": "python3"
  },
  "language_info": {
   "codemirror_mode": {
    "name": "ipython",
    "version": 3
   },
   "file_extension": ".py",
   "mimetype": "text/x-python",
   "name": "python",
   "nbconvert_exporter": "python",
   "pygments_lexer": "ipython3",
   "version": "3.10.4"
  }
 },
 "nbformat": 4,
 "nbformat_minor": 5
}
